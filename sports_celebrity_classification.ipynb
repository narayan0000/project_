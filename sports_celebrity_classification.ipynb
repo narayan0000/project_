{
 "cells": [
  {
   "cell_type": "markdown",
   "metadata": {},
   "source": [
    "<h2 style='color:blue' align='center'>Sports Celebrity Image Classification<h2>"
   ]
  },
  {
   "cell_type": "code",
   "execution_count": 2,
   "metadata": {},
   "outputs": [],
   "source": [
    "import numpy as np\n",
    "import cv2\n",
    "import matplotlib\n",
    "from matplotlib import pyplot as plt\n",
    "%matplotlib inline"
   ]
  },
  {
   "cell_type": "code",
   "execution_count": 14,
   "metadata": {},
   "outputs": [],
   "source": [
    "import numpy as np\n",
    "import pywt\n",
    "import cv2    \n",
    "\n",
    "def w2d(img, mode='haar', level=1):\n",
    "    imArray = img\n",
    "   \n",
    "    imArray = cv2.cvtColor( imArray,cv2.COLOR_RGB2GRAY )\n",
    "   \n",
    "    imArray =  np.float32(imArray)   \n",
    "    imArray /= 255;\n",
    "    \n",
    "    coeffs=pywt.wavedec2(imArray, mode, level=level)\n",
    "\n",
    "     \n",
    "    coeffs_H=list(coeffs)  \n",
    "    coeffs_H[0] *= 0;  \n",
    "\n",
    "    \n",
    "    imArray_H=pywt.waverec2(coeffs_H, mode);\n",
    "    imArray_H *= 255;\n",
    "    imArray_H =  np.uint8(imArray_H)\n",
    "\n",
    "    return imArray_H"
   ]
  },
  {
   "cell_type": "code",
   "execution_count": 16,
   "metadata": {},
   "outputs": [],
   "source": [
    "def get_cropped_image_if_2_eyes(image_path):\n",
    "    img = cv2.imread(image_path)\n",
    "    gray = cv2.cvtColor(img, cv2.COLOR_BGR2GRAY)\n",
    "    faces = face_cascade.detectMultiScale(gray, 1.3, 5)\n",
    "    for (x,y,w,h) in faces:\n",
    "        roi_gray = gray[y:y+h, x:x+w]\n",
    "        roi_color = img[y:y+h, x:x+w]\n",
    "        eyes = eye_cascade.detectMultiScale(roi_gray)\n",
    "        if len(eyes) >= 2:\n",
    "            return roi_color"
   ]
  },
  {
   "cell_type": "code",
   "execution_count": null,
   "metadata": {},
   "outputs": [],
   "source": [
    "path_to_data = \"./dataset/\"\n",
    "path_to_cr_data = \"./dataset/cropped/\""
   ]
  },
  {
   "cell_type": "code",
   "execution_count": null,
   "metadata": {},
   "outputs": [],
   "source": [
    "import os\n",
    "img_dirs = []\n",
    "for entry in os.scandir(path_to_data):\n",
    "    if entry.is_dir():\n",
    "        img_dirs.append(entry.path)"
   ]
  },
  {
   "cell_type": "code",
   "execution_count": 23,
   "metadata": {
    "scrolled": true
   },
   "outputs": [
    {
     "data": {
      "text/plain": [
       "['./dataset/cropped',\n",
       " './dataset/lionel_messi',\n",
       " './dataset/maria_sharapova',\n",
       " './dataset/roger_federer',\n",
       " './dataset/serena_williams',\n",
       " './dataset/virat_kohli']"
      ]
     },
     "execution_count": 23,
     "metadata": {},
     "output_type": "execute_result"
    }
   ],
   "source": [
    "img_dirs"
   ]
  },
  {
   "cell_type": "code",
   "execution_count": 25,
   "metadata": {},
   "outputs": [],
   "source": [
    "import shutil\n",
    "if os.path.exists(path_to_cr_data):\n",
    "     shutil.rmtree(path_to_cr_data)\n",
    "os.mkdir(path_to_cr_data)"
   ]
  },
  {
   "cell_type": "code",
   "execution_count": 26,
   "metadata": {
    "scrolled": true
   },
   "outputs": [
    {
     "name": "stdout",
     "output_type": "stream",
     "text": [
      "Generating cropped images in folder:  ./dataset/cropped/lionel_messi\n",
      "Generating cropped images in folder:  ./dataset/cropped/maria_sharapova\n",
      "Generating cropped images in folder:  ./dataset/cropped/roger_federer\n",
      "Generating cropped images in folder:  ./dataset/cropped/serena_williams\n",
      "Generating cropped images in folder:  ./dataset/cropped/virat_kohli\n"
     ]
    }
   ],
   "source": [
    "cropped_image_dirs = []\n",
    "celebrity_file_names_dict = {}\n",
    "for img_dir in img_dirs:\n",
    "    count = 1\n",
    "    celebrity_name = img_dir.split('/')[-1]\n",
    "    celebrity_file_names_dict[celebrity_name] = []\n",
    "    for entry in os.scandir(img_dir):\n",
    "        roi_color = get_cropped_image_if_2_eyes(entry.path)\n",
    "        if roi_color is not None:\n",
    "            cropped_folder = path_to_cr_data + celebrity_name\n",
    "            if not os.path.exists(cropped_folder):\n",
    "                os.makedirs(cropped_folder)\n",
    "                cropped_image_dirs.append(cropped_folder)\n",
    "                print(\"Generating cropped images in folder: \",cropped_folder)\n",
    "            cropped_file_name = celebrity_name + str(count) + \".png\"\n",
    "            cropped_file_path = cropped_folder + \"/\" + cropped_file_name\n",
    "            cv2.imwrite(cropped_file_path, roi_color)\n",
    "            celebrity_file_names_dict[celebrity_name].append(cropped_file_path)\n",
    "            count += 1"
   ]
  },
  {
   "cell_type": "code",
   "execution_count": 27,
   "metadata": {},
   "outputs": [
    {
     "data": {
      "text/plain": [
       "{'lionel_messi': ['./dataset/cropped/lionel_messi\\\\lionel_messi1.png',\n",
       "  './dataset/cropped/lionel_messi\\\\lionel_messi10.png',\n",
       "  './dataset/cropped/lionel_messi\\\\lionel_messi11.png',\n",
       "  './dataset/cropped/lionel_messi\\\\lionel_messi13.png',\n",
       "  './dataset/cropped/lionel_messi\\\\lionel_messi14.png',\n",
       "  './dataset/cropped/lionel_messi\\\\lionel_messi15.png',\n",
       "  './dataset/cropped/lionel_messi\\\\lionel_messi16.png',\n",
       "  './dataset/cropped/lionel_messi\\\\lionel_messi17.png',\n",
       "  './dataset/cropped/lionel_messi\\\\lionel_messi18.png',\n",
       "  './dataset/cropped/lionel_messi\\\\lionel_messi19.png',\n",
       "  './dataset/cropped/lionel_messi\\\\lionel_messi2.png',\n",
       "  './dataset/cropped/lionel_messi\\\\lionel_messi20.png',\n",
       "  './dataset/cropped/lionel_messi\\\\lionel_messi22.png',\n",
       "  './dataset/cropped/lionel_messi\\\\lionel_messi23.png',\n",
       "  './dataset/cropped/lionel_messi\\\\lionel_messi24.png',\n",
       "  './dataset/cropped/lionel_messi\\\\lionel_messi25.png',\n",
       "  './dataset/cropped/lionel_messi\\\\lionel_messi26.png',\n",
       "  './dataset/cropped/lionel_messi\\\\lionel_messi27.png',\n",
       "  './dataset/cropped/lionel_messi\\\\lionel_messi28.png',\n",
       "  './dataset/cropped/lionel_messi\\\\lionel_messi29.png',\n",
       "  './dataset/cropped/lionel_messi\\\\lionel_messi3.png',\n",
       "  './dataset/cropped/lionel_messi\\\\lionel_messi30.png',\n",
       "  './dataset/cropped/lionel_messi\\\\lionel_messi32.png',\n",
       "  './dataset/cropped/lionel_messi\\\\lionel_messi33.png',\n",
       "  './dataset/cropped/lionel_messi\\\\lionel_messi34.png',\n",
       "  './dataset/cropped/lionel_messi\\\\lionel_messi35.png',\n",
       "  './dataset/cropped/lionel_messi\\\\lionel_messi36.png',\n",
       "  './dataset/cropped/lionel_messi\\\\lionel_messi37.png',\n",
       "  './dataset/cropped/lionel_messi\\\\lionel_messi38.png',\n",
       "  './dataset/cropped/lionel_messi\\\\lionel_messi39.png',\n",
       "  './dataset/cropped/lionel_messi\\\\lionel_messi4.png',\n",
       "  './dataset/cropped/lionel_messi\\\\lionel_messi5.png',\n",
       "  './dataset/cropped/lionel_messi\\\\lionel_messi6.png',\n",
       "  './dataset/cropped/lionel_messi\\\\lionel_messi7.png',\n",
       "  './dataset/cropped/lionel_messi\\\\lionel_messi8.png',\n",
       "  './dataset/cropped/lionel_messi\\\\lionel_messi9.png'],\n",
       " 'maria_sharapova': ['./dataset/cropped/maria_sharapova\\\\maria_sharapova1.png',\n",
       "  './dataset/cropped/maria_sharapova\\\\maria_sharapova10.png',\n",
       "  './dataset/cropped/maria_sharapova\\\\maria_sharapova11.png',\n",
       "  './dataset/cropped/maria_sharapova\\\\maria_sharapova12.png',\n",
       "  './dataset/cropped/maria_sharapova\\\\maria_sharapova13.png',\n",
       "  './dataset/cropped/maria_sharapova\\\\maria_sharapova14.png',\n",
       "  './dataset/cropped/maria_sharapova\\\\maria_sharapova15.png',\n",
       "  './dataset/cropped/maria_sharapova\\\\maria_sharapova16.png',\n",
       "  './dataset/cropped/maria_sharapova\\\\maria_sharapova17.png',\n",
       "  './dataset/cropped/maria_sharapova\\\\maria_sharapova18.png',\n",
       "  './dataset/cropped/maria_sharapova\\\\maria_sharapova19.png',\n",
       "  './dataset/cropped/maria_sharapova\\\\maria_sharapova2.png',\n",
       "  './dataset/cropped/maria_sharapova\\\\maria_sharapova20.png',\n",
       "  './dataset/cropped/maria_sharapova\\\\maria_sharapova21.png',\n",
       "  './dataset/cropped/maria_sharapova\\\\maria_sharapova22.png',\n",
       "  './dataset/cropped/maria_sharapova\\\\maria_sharapova23.png',\n",
       "  './dataset/cropped/maria_sharapova\\\\maria_sharapova24.png',\n",
       "  './dataset/cropped/maria_sharapova\\\\maria_sharapova25.png',\n",
       "  './dataset/cropped/maria_sharapova\\\\maria_sharapova26.png',\n",
       "  './dataset/cropped/maria_sharapova\\\\maria_sharapova27.png',\n",
       "  './dataset/cropped/maria_sharapova\\\\maria_sharapova28.png',\n",
       "  './dataset/cropped/maria_sharapova\\\\maria_sharapova29.png',\n",
       "  './dataset/cropped/maria_sharapova\\\\maria_sharapova30.png',\n",
       "  './dataset/cropped/maria_sharapova\\\\maria_sharapova31.png',\n",
       "  './dataset/cropped/maria_sharapova\\\\maria_sharapova32.png',\n",
       "  './dataset/cropped/maria_sharapova\\\\maria_sharapova33.png',\n",
       "  './dataset/cropped/maria_sharapova\\\\maria_sharapova34.png',\n",
       "  './dataset/cropped/maria_sharapova\\\\maria_sharapova35.png',\n",
       "  './dataset/cropped/maria_sharapova\\\\maria_sharapova4.png',\n",
       "  './dataset/cropped/maria_sharapova\\\\maria_sharapova5.png',\n",
       "  './dataset/cropped/maria_sharapova\\\\maria_sharapova6.png',\n",
       "  './dataset/cropped/maria_sharapova\\\\maria_sharapova7.png',\n",
       "  './dataset/cropped/maria_sharapova\\\\maria_sharapova8.png',\n",
       "  './dataset/cropped/maria_sharapova\\\\maria_sharapova9.png'],\n",
       " 'roger_federer': ['./dataset/cropped/roger_federer\\\\roger_federer1.png',\n",
       "  './dataset/cropped/roger_federer\\\\roger_federer10.png',\n",
       "  './dataset/cropped/roger_federer\\\\roger_federer11.png',\n",
       "  './dataset/cropped/roger_federer\\\\roger_federer12.png',\n",
       "  './dataset/cropped/roger_federer\\\\roger_federer13.png',\n",
       "  './dataset/cropped/roger_federer\\\\roger_federer14.png',\n",
       "  './dataset/cropped/roger_federer\\\\roger_federer15.png',\n",
       "  './dataset/cropped/roger_federer\\\\roger_federer16.png',\n",
       "  './dataset/cropped/roger_federer\\\\roger_federer17.png',\n",
       "  './dataset/cropped/roger_federer\\\\roger_federer18.png',\n",
       "  './dataset/cropped/roger_federer\\\\roger_federer19.png',\n",
       "  './dataset/cropped/roger_federer\\\\roger_federer2.png',\n",
       "  './dataset/cropped/roger_federer\\\\roger_federer20.png',\n",
       "  './dataset/cropped/roger_federer\\\\roger_federer21.png',\n",
       "  './dataset/cropped/roger_federer\\\\roger_federer22.png',\n",
       "  './dataset/cropped/roger_federer\\\\roger_federer23.png',\n",
       "  './dataset/cropped/roger_federer\\\\roger_federer24.png',\n",
       "  './dataset/cropped/roger_federer\\\\roger_federer25.png',\n",
       "  './dataset/cropped/roger_federer\\\\roger_federer28.png',\n",
       "  './dataset/cropped/roger_federer\\\\roger_federer29.png',\n",
       "  './dataset/cropped/roger_federer\\\\roger_federer3.png',\n",
       "  './dataset/cropped/roger_federer\\\\roger_federer30.png',\n",
       "  './dataset/cropped/roger_federer\\\\roger_federer4.png',\n",
       "  './dataset/cropped/roger_federer\\\\roger_federer5.png',\n",
       "  './dataset/cropped/roger_federer\\\\roger_federer6.png',\n",
       "  './dataset/cropped/roger_federer\\\\roger_federer7.png',\n",
       "  './dataset/cropped/roger_federer\\\\roger_federer8.png',\n",
       "  './dataset/cropped/roger_federer\\\\roger_federer9.png'],\n",
       " 'serena_williams': ['./dataset/cropped/serena_williams\\\\serena_williams10.png',\n",
       "  './dataset/cropped/serena_williams\\\\serena_williams11.png',\n",
       "  './dataset/cropped/serena_williams\\\\serena_williams12.png',\n",
       "  './dataset/cropped/serena_williams\\\\serena_williams13.png',\n",
       "  './dataset/cropped/serena_williams\\\\serena_williams14.png',\n",
       "  './dataset/cropped/serena_williams\\\\serena_williams15.png',\n",
       "  './dataset/cropped/serena_williams\\\\serena_williams16.png',\n",
       "  './dataset/cropped/serena_williams\\\\serena_williams17.png',\n",
       "  './dataset/cropped/serena_williams\\\\serena_williams18.png',\n",
       "  './dataset/cropped/serena_williams\\\\serena_williams2.png',\n",
       "  './dataset/cropped/serena_williams\\\\serena_williams20.png',\n",
       "  './dataset/cropped/serena_williams\\\\serena_williams22.png',\n",
       "  './dataset/cropped/serena_williams\\\\serena_williams23.png',\n",
       "  './dataset/cropped/serena_williams\\\\serena_williams24.png',\n",
       "  './dataset/cropped/serena_williams\\\\serena_williams26.png',\n",
       "  './dataset/cropped/serena_williams\\\\serena_williams27.png',\n",
       "  './dataset/cropped/serena_williams\\\\serena_williams28.png',\n",
       "  './dataset/cropped/serena_williams\\\\serena_williams29.png',\n",
       "  './dataset/cropped/serena_williams\\\\serena_williams3.png',\n",
       "  './dataset/cropped/serena_williams\\\\serena_williams30.png',\n",
       "  './dataset/cropped/serena_williams\\\\serena_williams31.png',\n",
       "  './dataset/cropped/serena_williams\\\\serena_williams32.png',\n",
       "  './dataset/cropped/serena_williams\\\\serena_williams34.png',\n",
       "  './dataset/cropped/serena_williams\\\\serena_williams35.png',\n",
       "  './dataset/cropped/serena_williams\\\\serena_williams4.png',\n",
       "  './dataset/cropped/serena_williams\\\\serena_williams6.png',\n",
       "  './dataset/cropped/serena_williams\\\\serena_williams7.png',\n",
       "  './dataset/cropped/serena_williams\\\\serena_williams8.png',\n",
       "  './dataset/cropped/serena_williams\\\\serena_williams9.png'],\n",
       " 'virat_kohli': ['./dataset/cropped/virat_kohli\\\\virat_kohli1.png',\n",
       "  './dataset/cropped/virat_kohli\\\\virat_kohli10.png',\n",
       "  './dataset/cropped/virat_kohli\\\\virat_kohli11.png',\n",
       "  './dataset/cropped/virat_kohli\\\\virat_kohli12.png',\n",
       "  './dataset/cropped/virat_kohli\\\\virat_kohli13.png',\n",
       "  './dataset/cropped/virat_kohli\\\\virat_kohli14.png',\n",
       "  './dataset/cropped/virat_kohli\\\\virat_kohli15.png',\n",
       "  './dataset/cropped/virat_kohli\\\\virat_kohli16.png',\n",
       "  './dataset/cropped/virat_kohli\\\\virat_kohli17.png',\n",
       "  './dataset/cropped/virat_kohli\\\\virat_kohli18.png',\n",
       "  './dataset/cropped/virat_kohli\\\\virat_kohli19.png',\n",
       "  './dataset/cropped/virat_kohli\\\\virat_kohli2.png',\n",
       "  './dataset/cropped/virat_kohli\\\\virat_kohli20.png',\n",
       "  './dataset/cropped/virat_kohli\\\\virat_kohli21.png',\n",
       "  './dataset/cropped/virat_kohli\\\\virat_kohli23.png',\n",
       "  './dataset/cropped/virat_kohli\\\\virat_kohli25.png',\n",
       "  './dataset/cropped/virat_kohli\\\\virat_kohli26.png',\n",
       "  './dataset/cropped/virat_kohli\\\\virat_kohli27.png',\n",
       "  './dataset/cropped/virat_kohli\\\\virat_kohli28.png',\n",
       "  './dataset/cropped/virat_kohli\\\\virat_kohli30.png',\n",
       "  './dataset/cropped/virat_kohli\\\\virat_kohli31.png',\n",
       "  './dataset/cropped/virat_kohli\\\\virat_kohli32.png',\n",
       "  './dataset/cropped/virat_kohli\\\\virat_kohli33.png',\n",
       "  './dataset/cropped/virat_kohli\\\\virat_kohli34.png',\n",
       "  './dataset/cropped/virat_kohli\\\\virat_kohli35.png',\n",
       "  './dataset/cropped/virat_kohli\\\\virat_kohli36.png',\n",
       "  './dataset/cropped/virat_kohli\\\\virat_kohli37.png',\n",
       "  './dataset/cropped/virat_kohli\\\\virat_kohli38.png',\n",
       "  './dataset/cropped/virat_kohli\\\\virat_kohli4.png',\n",
       "  './dataset/cropped/virat_kohli\\\\virat_kohli40.png',\n",
       "  './dataset/cropped/virat_kohli\\\\virat_kohli41.png',\n",
       "  './dataset/cropped/virat_kohli\\\\virat_kohli42.png',\n",
       "  './dataset/cropped/virat_kohli\\\\virat_kohli44.png',\n",
       "  './dataset/cropped/virat_kohli\\\\virat_kohli45.png',\n",
       "  './dataset/cropped/virat_kohli\\\\virat_kohli47.png',\n",
       "  './dataset/cropped/virat_kohli\\\\virat_kohli48.png',\n",
       "  './dataset/cropped/virat_kohli\\\\virat_kohli5.png',\n",
       "  './dataset/cropped/virat_kohli\\\\virat_kohli6.png',\n",
       "  './dataset/cropped/virat_kohli\\\\virat_kohli7.png',\n",
       "  './dataset/cropped/virat_kohli\\\\virat_kohli8.png',\n",
       "  './dataset/cropped/virat_kohli\\\\virat_kohli9.png']}"
      ]
     },
     "execution_count": 27,
     "metadata": {},
     "output_type": "execute_result"
    }
   ],
   "source": [
    "celebrity_file_names_dict = {}\n",
    "for img_dir in cropped_image_dirs:\n",
    "    celebrity_name = img_dir.split('/')[-1]\n",
    "    file_list = []\n",
    "    for entry in os.scandir(img_dir):\n",
    "        file_list.append(entry.path)\n",
    "    celebrity_file_names_dict[celebrity_name] = file_list\n",
    "celebrity_file_names_dict"
   ]
  },
  {
   "cell_type": "code",
   "execution_count": 28,
   "metadata": {
    "scrolled": true
   },
   "outputs": [
    {
     "data": {
      "text/plain": [
       "{'lionel_messi': 0,\n",
       " 'maria_sharapova': 1,\n",
       " 'roger_federer': 2,\n",
       " 'serena_williams': 3,\n",
       " 'virat_kohli': 4}"
      ]
     },
     "execution_count": 28,
     "metadata": {},
     "output_type": "execute_result"
    }
   ],
   "source": [
    "class_dict = {}\n",
    "count = 0\n",
    "for celebrity_name in celebrity_file_names_dict.keys():\n",
    "    class_dict[celebrity_name] = count\n",
    "    count = count + 1\n",
    "class_dict"
   ]
  },
  {
   "cell_type": "code",
   "execution_count": 29,
   "metadata": {},
   "outputs": [],
   "source": [
    "X, y = [], []\n",
    "for celebrity_name, training_files in celebrity_file_names_dict.items():\n",
    "    for training_image in training_files:\n",
    "        img = cv2.imread(training_image)\n",
    "        scalled_raw_img = cv2.resize(img, (32, 32))\n",
    "        img_har = w2d(img,'db1',5)\n",
    "        scalled_img_har = cv2.resize(img_har, (32, 32))\n",
    "        combined_img = np.vstack((scalled_raw_img.reshape(32*32*3,1),scalled_img_har.reshape(32*32,1)))\n",
    "        X.append(combined_img)\n",
    "        y.append(class_dict[celebrity_name])     "
   ]
  },
  {
   "cell_type": "code",
   "execution_count": 34,
   "metadata": {},
   "outputs": [
    {
     "data": {
      "text/plain": [
       "(168, 4096)"
      ]
     },
     "execution_count": 34,
     "metadata": {},
     "output_type": "execute_result"
    }
   ],
   "source": [
    "X = np.array(X).reshape(len(X),4096).astype(float)\n",
    "X.shape"
   ]
  },
  {
   "cell_type": "code",
   "execution_count": 38,
   "metadata": {
    "scrolled": false
   },
   "outputs": [],
   "source": [
    "from sklearn.svm import SVC\n",
    "from sklearn.preprocessing import StandardScaler\n",
    "from sklearn.model_selection import train_test_split\n",
    "from sklearn.pipeline import Pipeline\n",
    "from sklearn.metrics import classification_report"
   ]
  },
  {
   "cell_type": "code",
   "execution_count": 40,
   "metadata": {
    "scrolled": false
   },
   "outputs": [
    {
     "data": {
      "text/plain": [
       "0.8809523809523809"
      ]
     },
     "execution_count": 40,
     "metadata": {},
     "output_type": "execute_result"
    }
   ],
   "source": [
    "X_train, X_test, y_train, y_test = train_test_split(X, y, random_state=0)\n",
    "\n",
    "pipe = Pipeline([('scaler', StandardScaler()), ('svc', SVC(kernel = 'rbf', C = 10))])\n",
    "pipe.fit(X_train, y_train)\n",
    "pipe.score(X_test, y_test)"
   ]
  },
  {
   "cell_type": "code",
   "execution_count": 42,
   "metadata": {
    "scrolled": true
   },
   "outputs": [
    {
     "name": "stdout",
     "output_type": "stream",
     "text": [
      "              precision    recall  f1-score   support\n",
      "\n",
      "           0       0.86      0.86      0.86         7\n",
      "           1       1.00      0.90      0.95        10\n",
      "           2       1.00      0.71      0.83         7\n",
      "           3       0.78      1.00      0.88         7\n",
      "           4       0.83      0.91      0.87        11\n",
      "\n",
      "   micro avg       0.88      0.88      0.88        42\n",
      "   macro avg       0.89      0.88      0.88        42\n",
      "weighted avg       0.90      0.88      0.88        42\n",
      "\n"
     ]
    }
   ],
   "source": [
    "print(classification_report(y_test, pipe.predict(X_test)))"
   ]
  },
  {
   "cell_type": "code",
   "execution_count": 43,
   "metadata": {},
   "outputs": [],
   "source": [
    "from sklearn import svm\n",
    "from sklearn.ensemble import RandomForestClassifier\n",
    "from sklearn.linear_model import LogisticRegression\n",
    "from sklearn.pipeline import make_pipeline\n",
    "from sklearn.model_selection import GridSearchCV"
   ]
  },
  {
   "cell_type": "code",
   "execution_count": null,
   "metadata": {
    "scrolled": false
   },
   "outputs": [],
   "source": [
    "model_params = {\n",
    "    'svm': {\n",
    "        'model': svm.SVC(gamma='auto',probability=True),\n",
    "        'params' : {\n",
    "            'svc__C': [1,10,100,1000],\n",
    "            'svc__kernel': ['rbf','linear']\n",
    "        }  \n",
    "    },\n",
    "    'random_forest': {\n",
    "        'model': RandomForestClassifier(),\n",
    "        'params' : {\n",
    "            'randomforestclassifier__n_estimators': [1,5,10]\n",
    "        }\n",
    "    },\n",
    "    'logistic_regression' : {\n",
    "        'model': LogisticRegression(solver='liblinear',multi_class='auto'),\n",
    "        'params': {\n",
    "            'logisticregression__C': [1,5,10]\n",
    "        }\n",
    "    }\n",
    "}"
   ]
  },
  {
   "cell_type": "code",
   "execution_count": 44,
   "metadata": {
    "scrolled": true
   },
   "outputs": [
    {
     "name": "stderr",
     "output_type": "stream",
     "text": [
      "C:\\ProgramData\\Anaconda3\\lib\\site-packages\\sklearn\\model_selection\\_search.py:841: DeprecationWarning: The default of the `iid` parameter will change from True to False in version 0.22 and will be removed in 0.24. This will change numeric results when test-set sizes are unequal.\n",
      "  DeprecationWarning)\n",
      "C:\\ProgramData\\Anaconda3\\lib\\site-packages\\sklearn\\model_selection\\_search.py:841: DeprecationWarning: The default of the `iid` parameter will change from True to False in version 0.22 and will be removed in 0.24. This will change numeric results when test-set sizes are unequal.\n",
      "  DeprecationWarning)\n",
      "C:\\ProgramData\\Anaconda3\\lib\\site-packages\\sklearn\\model_selection\\_search.py:841: DeprecationWarning: The default of the `iid` parameter will change from True to False in version 0.22 and will be removed in 0.24. This will change numeric results when test-set sizes are unequal.\n",
      "  DeprecationWarning)\n"
     ]
    },
    {
     "data": {
      "text/html": [
       "<div>\n",
       "<style scoped>\n",
       "    .dataframe tbody tr th:only-of-type {\n",
       "        vertical-align: middle;\n",
       "    }\n",
       "\n",
       "    .dataframe tbody tr th {\n",
       "        vertical-align: top;\n",
       "    }\n",
       "\n",
       "    .dataframe thead th {\n",
       "        text-align: right;\n",
       "    }\n",
       "</style>\n",
       "<table border=\"1\" class=\"dataframe\">\n",
       "  <thead>\n",
       "    <tr style=\"text-align: right;\">\n",
       "      <th></th>\n",
       "      <th>model</th>\n",
       "      <th>best_score</th>\n",
       "      <th>best_params</th>\n",
       "    </tr>\n",
       "  </thead>\n",
       "  <tbody>\n",
       "    <tr>\n",
       "      <th>0</th>\n",
       "      <td>svm</td>\n",
       "      <td>0.841270</td>\n",
       "      <td>{'svc__C': 1, 'svc__kernel': 'linear'}</td>\n",
       "    </tr>\n",
       "    <tr>\n",
       "      <th>1</th>\n",
       "      <td>random_forest</td>\n",
       "      <td>0.706349</td>\n",
       "      <td>{'randomforestclassifier__n_estimators': 10}</td>\n",
       "    </tr>\n",
       "    <tr>\n",
       "      <th>2</th>\n",
       "      <td>logistic_regression</td>\n",
       "      <td>0.809524</td>\n",
       "      <td>{'logisticregression__C': 1}</td>\n",
       "    </tr>\n",
       "  </tbody>\n",
       "</table>\n",
       "</div>"
      ],
      "text/plain": [
       "                 model  best_score  \\\n",
       "0                  svm    0.841270   \n",
       "1        random_forest    0.706349   \n",
       "2  logistic_regression    0.809524   \n",
       "\n",
       "                                    best_params  \n",
       "0        {'svc__C': 1, 'svc__kernel': 'linear'}  \n",
       "1  {'randomforestclassifier__n_estimators': 10}  \n",
       "2                  {'logisticregression__C': 1}  "
      ]
     },
     "execution_count": 44,
     "metadata": {},
     "output_type": "execute_result"
    }
   ],
   "source": [
    "scores = []\n",
    "best_estimators = {}\n",
    "import pandas as pd\n",
    "for algo, mp in model_params.items():\n",
    "    pipe = make_pipeline(StandardScaler(), mp['model'])\n",
    "    clf =  GridSearchCV(pipe, mp['params'], cv=5, return_train_score=False)\n",
    "    clf.fit(X_train, y_train)\n",
    "    scores.append({\n",
    "        'model': algo,\n",
    "        'best_score': clf.best_score_,\n",
    "        'best_params': clf.best_params_\n",
    "    })\n",
    "    best_estimators[algo] = clf.best_estimator_\n",
    "    \n",
    "df = pd.DataFrame(scores,columns=['model','best_score','best_params'])\n",
    "df"
   ]
  },
  {
   "cell_type": "code",
   "execution_count": 45,
   "metadata": {
    "scrolled": true
   },
   "outputs": [
    {
     "data": {
      "text/plain": [
       "{'svm': Pipeline(memory=None,\n",
       "      steps=[('standardscaler', StandardScaler(copy=True, with_mean=True, with_std=True)), ('svc', SVC(C=1, cache_size=200, class_weight=None, coef0=0.0,\n",
       "   decision_function_shape='ovr', degree=3, gamma='auto', kernel='linear',\n",
       "   max_iter=-1, probability=True, random_state=None, shrinking=True,\n",
       "   tol=0.001, verbose=False))]), 'random_forest': Pipeline(memory=None,\n",
       "      steps=[('standardscaler', StandardScaler(copy=True, with_mean=True, with_std=True)), ('randomforestclassifier', RandomForestClassifier(bootstrap=True, class_weight=None, criterion='gini',\n",
       "             max_depth=None, max_features='auto', max_leaf_nodes=None,\n",
       "             min_impurity_decrease=0.0, min...obs=None,\n",
       "             oob_score=False, random_state=None, verbose=0,\n",
       "             warm_start=False))]), 'logistic_regression': Pipeline(memory=None,\n",
       "      steps=[('standardscaler', StandardScaler(copy=True, with_mean=True, with_std=True)), ('logisticregression', LogisticRegression(C=1, class_weight=None, dual=False, fit_intercept=True,\n",
       "           intercept_scaling=1, max_iter=100, multi_class='auto',\n",
       "           n_jobs=None, penalty='l2', random_state=None, solver='liblinear',\n",
       "           tol=0.0001, verbose=0, warm_start=False))])}"
      ]
     },
     "execution_count": 45,
     "metadata": {},
     "output_type": "execute_result"
    }
   ],
   "source": [
    "best_estimators"
   ]
  },
  {
   "cell_type": "code",
   "execution_count": 47,
   "metadata": {},
   "outputs": [
    {
     "data": {
      "text/plain": [
       "0.9047619047619048"
      ]
     },
     "execution_count": 47,
     "metadata": {},
     "output_type": "execute_result"
    }
   ],
   "source": [
    "best_estimators['svm'].score(X_test,y_test)"
   ]
  },
  {
   "cell_type": "code",
   "execution_count": 48,
   "metadata": {},
   "outputs": [
    {
     "data": {
      "text/plain": [
       "0.5952380952380952"
      ]
     },
     "execution_count": 48,
     "metadata": {},
     "output_type": "execute_result"
    }
   ],
   "source": [
    "best_estimators['random_forest'].score(X_test,y_test)"
   ]
  },
  {
   "cell_type": "code",
   "execution_count": 49,
   "metadata": {},
   "outputs": [
    {
     "data": {
      "text/plain": [
       "0.9285714285714286"
      ]
     },
     "execution_count": 49,
     "metadata": {},
     "output_type": "execute_result"
    }
   ],
   "source": [
    "best_estimators['logistic_regression'].score(X_test,y_test)"
   ]
  },
  {
   "cell_type": "code",
   "execution_count": 50,
   "metadata": {},
   "outputs": [],
   "source": [
    "best_clf = best_estimators['svm']"
   ]
  },
  {
   "cell_type": "code",
   "execution_count": 51,
   "metadata": {},
   "outputs": [
    {
     "data": {
      "text/plain": [
       "array([[ 7,  0,  0,  0,  0],\n",
       "       [ 0,  9,  0,  1,  0],\n",
       "       [ 0,  0,  5,  2,  0],\n",
       "       [ 0,  1,  0,  6,  0],\n",
       "       [ 0,  0,  0,  0, 11]], dtype=int64)"
      ]
     },
     "execution_count": 51,
     "metadata": {},
     "output_type": "execute_result"
    }
   ],
   "source": [
    "from sklearn.metrics import confusion_matrix\n",
    "cm = confusion_matrix(y_test, best_clf.predict(X_test))\n",
    "cm"
   ]
  },
  {
   "cell_type": "code",
   "execution_count": 52,
   "metadata": {
    "scrolled": false
   },
   "outputs": [
    {
     "data": {
      "text/plain": [
       "Text(69.0, 0.5, 'Truth')"
      ]
     },
     "execution_count": 52,
     "metadata": {},
     "output_type": "execute_result"
    },
    {
     "data": {
      "image/png": "[encoded data removed]",
      "text/plain": [
       "<Figure size 720x504 with 2 Axes>"
      ]
     },
     "metadata": {
      "needs_background": "light"
     },
     "output_type": "display_data"
    }
   ],
   "source": [
    "import seaborn as sn\n",
    "plt.figure(figsize = (10,7))\n",
    "sn.heatmap(cm, annot=True)\n",
    "plt.xlabel('Predicted')\n",
    "plt.ylabel('Truth')"
   ]
  },
  {
   "cell_type": "code",
   "execution_count": 53,
   "metadata": {},
   "outputs": [
    {
     "data": {
      "text/plain": [
       "{'lionel_messi': 0,\n",
       " 'maria_sharapova': 1,\n",
       " 'roger_federer': 2,\n",
       " 'serena_williams': 3,\n",
       " 'virat_kohli': 4}"
      ]
     },
     "execution_count": 53,
     "metadata": {},
     "output_type": "execute_result"
    }
   ],
   "source": [
    "class_dict"
   ]
  }
 ],
 "metadata": {
  "kernelspec": {
   "display_name": "Python 3",
   "language": "python",
   "name": "python3"
  },
  "language_info": {
   "codemirror_mode": {
    "name": "ipython",
    "version": 3
   },
   "file_extension": ".py",
   "mimetype": "text/x-python",
   "name": "python",
   "nbconvert_exporter": "python",
   "pygments_lexer": "ipython3",
   "version": "3.7.3"
  }
 },
 "nbformat": 4,
 "nbformat_minor": 2
}
